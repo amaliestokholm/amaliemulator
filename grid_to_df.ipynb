{
 "cells": [
  {
   "cell_type": "markdown",
   "id": "079c46b5-247d-46ac-8ff6-6615496cec16",
   "metadata": {},
   "source": [
    "# grid_to_df\n",
    "notebook for converting garstec out hdf5 files to neural network friendly dataframes saved back to hdf5"
   ]
  },
  {
   "cell_type": "code",
   "execution_count": null,
   "id": "058574a1-551a-4329-8f13-bc7e7b2d861c",
   "metadata": {},
   "outputs": [],
   "source": [
    "#misc\n",
    "import pandas as pd\n",
    "import numpy as np\n",
    "import h5py\n",
    "import os"
   ]
  },
  {
   "cell_type": "markdown",
   "id": "951d434e-17ea-4497-9cf8-2d7407f44257",
   "metadata": {},
   "source": [
    "## import garstec h5 file"
   ]
  },
  {
   "cell_type": "code",
   "execution_count": null,
   "id": "3efd3551-14fa-4cb4-9da3-1abfbcbfa728",
   "metadata": {},
   "outputs": [],
   "source": [
    "garstec_h5 = h5py.File(\"/home/oxs235/datastorage/repos_data/ojscutt/pitchfork/data/Garstec_AS09_barbieMS.hdf5\", 'r') ### EDIT WITH YOUR FILEPATH\n",
    "\n",
    "print(list(garstec_h5['grid/tracks/track0001']))"
   ]
  },
  {
   "cell_type": "markdown",
   "id": "058b4be1-9a70-45ce-9265-270688b024dd",
   "metadata": {},
   "source": [
    "## def and run track_df_gen func"
   ]
  },
  {
   "cell_type": "code",
   "execution_count": null,
   "id": "24e6929b-547e-4b63-b8eb-27fee699f373",
   "metadata": {},
   "outputs": [],
   "source": [
    "def track_df_gen(grid, track_ids, n_min=15, n_max=25, headers=['age', 'Teff', 'LPhot']):\n",
    "    \"\"\"\n",
    "    Convert garstec hdf5 file (grid) to NN friendly dataframe file for training.\n",
    "    \n",
    "    args:\n",
    "    grid -- garstec hdf5 out file\n",
    "    track_ids -- list of track ids (including leading zeros) to iterate over\n",
    "\n",
    "    kwargs:\n",
    "    n_min -- lower limit of radial order to load/pad\n",
    "    n_max -- upper limit of radial order to load/pad\n",
    "    headers -- relevant headers to include in final dataframe (inputs and outputs for training, typically)\n",
    "\n",
    "    returns:\n",
    "    pandas dataframe with columns:\n",
    "        - ['track_id'] -- integer track id from GARSTEC hdf5 out file, no leading 0s\n",
    "        - [headers] -- columns for each header defined by 'headers' kwarg\n",
    "        - [nu_headers] -- columns for mode frequency values for radial orders in range n_min->n_max\n",
    "    \n",
    "    notes:\n",
    "    - Operates track by track, and fills missing mode freqencies by padding using GARSTEC dnufit.\n",
    "    - Modes loaded/filled between a min and max radial order. This must be consistent between all dataframe rows.\n",
    "    - Warning is printed when padding is occuring. This is unexpected behaviour if radial orders between n_min and n_max should be present for all points in the grid.\n",
    "    \"\"\"\n",
    "    nu_headers = [f\"nu_0_{n}\" for n in range(n_min, n_max+1)]\n",
    "    first_switch=0\n",
    "    for track_id in track_ids:\n",
    "        print(str(track_id), end=\"\\r\")\n",
    "        track = grid['grid/tracks/track'+track_id]\n",
    "        \n",
    "        track_array = np.full(len(track[headers[0]]), int(track_id))\n",
    "\n",
    "        for header in headers:\n",
    "            track_array = np.column_stack((track_array, np.array(track[header])))\n",
    "        \n",
    "        age = track['age']\n",
    "    \n",
    "        points = np.array(age) #np.array(age)[np.where(np.array(age)<=max_age)[0]]\n",
    "        first_point = points[0]\n",
    "        last_point = points[-1]\n",
    "        \n",
    "        osckeys = track['osckey']\n",
    "        dnufits = track['dnufit']\n",
    "\n",
    "        i = 0\n",
    "        padding_switch = 0\n",
    "        for point in points:\n",
    "            n_vals = osckeys[i][1][np.where(osckeys[i][0] == 0)[0]]\n",
    "            n_upper = n_vals[-1]\n",
    "            n_lower = n_vals[0]\n",
    "            dnufit = dnufits[i]\n",
    "            \n",
    "            nu_vals = list(track['osc'][i][0][np.where(osckeys[i][0] == 0)])\n",
    "            if n_upper < n_max:\n",
    "                nu_max = nu_vals[-1]\n",
    "                n_diff = n_max - n_upper\n",
    "                try:\n",
    "                    nu_upper_pad = (np.linspace(1,n_diff,n_diff)*dnufit)+nu_max\n",
    "                except:\n",
    "                    nu_upper_pad = np.full(n_diff, nu_max)\n",
    "                nu_vals = nu_vals + nu_upper_pad.tolist()\n",
    "                n_upper=n_max\n",
    "                padding_switch = 1\n",
    "\n",
    "            \n",
    "            if n_lower > n_min:\n",
    "                nu_min = nu_vals[0]\n",
    "                n_diff = n_lower - n_min\n",
    "                try:\n",
    "                    nu_lower_pad = nu_min - (np.linspace(n_diff,1,n_diff)*dnufit)\n",
    "                except:\n",
    "                    nu_lower_pad = np.full(n_diff, nu_min)\n",
    "                nu_vals = nu_lower_pad.tolist() + nu_vals\n",
    "                n_lower = n_min\n",
    "                padding_switch = 1\n",
    "            \n",
    "            nu_vals = nu_vals[n_min - n_lower:(n_max - n_lower)+1]\n",
    "            \n",
    "            if i == 0:\n",
    "                nu_vals_arr = nu_vals\n",
    "            else:\n",
    "                nu_vals_arr = np.vstack((nu_vals_arr, nu_vals))\n",
    "            i+=1\n",
    "        track_array = np.concatenate((track_array, nu_vals_arr), axis=1)\n",
    "       \n",
    "        if first_switch == 0:\n",
    "            tracks_array = track_array\n",
    "            first_switch = 1\n",
    "        else:\n",
    "            tracks_array = np.vstack((tracks_array, track_array))\n",
    "\n",
    "        if padding_switch == 1:\n",
    "            print(f\"padding! requested radial order range {n_min}->{n_max} exceeded range present in track{track_id}\")\n",
    "\n",
    "\n",
    "    return pd.DataFrame(tracks_array, columns = ['track_id']+headers+nu_headers)\n",
    "\n",
    "headers = ['massini', 'zini', 'yini', 'alphaMLT', 'age', 'TAMS', 'radPhot', 'LPhot', 'Teff', 'zsur', 'numax', 'dnufit']\n",
    "\n",
    "track_ids = [track_name.replace('track', '') for track_name in list(garstec_h5['grid/tracks'])]\n",
    "\n",
    "garstec_df = track_df_gen(garstec_h5,track_ids, n_min=19, n_max=21, headers=headers)"
   ]
  },
  {
   "cell_type": "markdown",
   "id": "8cca7a4e-093b-4f5d-ab2b-c77fe1e19be7",
   "metadata": {},
   "source": [
    "## check df"
   ]
  },
  {
   "cell_type": "code",
   "execution_count": null,
   "id": "788b3221-7ec2-46c0-94f4-f52ac2d083f8",
   "metadata": {},
   "outputs": [],
   "source": [
    "garstec_df"
   ]
  },
  {
   "cell_type": "code",
   "execution_count": null,
   "id": "078c8f74-4998-48a6-9b7b-c05b6d967f00",
   "metadata": {},
   "outputs": [],
   "source": [
    "garstec_df.describe()"
   ]
  }
 ],
 "metadata": {
  "kernelspec": {
   "display_name": "Python 3 (ipykernel)",
   "language": "python",
   "name": "python3"
  },
  "language_info": {
   "codemirror_mode": {
    "name": "ipython",
    "version": 3
   },
   "file_extension": ".py",
   "mimetype": "text/x-python",
   "name": "python",
   "nbconvert_exporter": "python",
   "pygments_lexer": "ipython3",
   "version": "3.9.18"
  }
 },
 "nbformat": 4,
 "nbformat_minor": 5
}
